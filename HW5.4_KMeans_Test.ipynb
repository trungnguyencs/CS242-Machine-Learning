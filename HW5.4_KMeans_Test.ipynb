{
 "cells": [
  {
   "cell_type": "code",
   "execution_count": 1,
   "metadata": {
    "collapsed": true
   },
   "outputs": [],
   "source": [
    "import numpy as np\n",
    "from sklearn.cluster import KMeans"
   ]
  },
  {
   "cell_type": "markdown",
   "metadata": {},
   "source": [
    "### K-Means with initials means [1,3,6]"
   ]
  },
  {
   "cell_type": "code",
   "execution_count": 2,
   "metadata": {
    "scrolled": false
   },
   "outputs": [
    {
     "name": "stdout",
     "output_type": "stream",
     "text": [
      "Centers:\n",
      "[[  3.33333333]\n",
      " [ 12.5       ]\n",
      " [ 28.33333333]]\n"
     ]
    }
   ],
   "source": [
    "data = np.array([1,3,6,10,15,21,28,36],np.float64)\n",
    "init = np.array([1,3,6], np.float64)\n",
    "km = KMeans(n_clusters=3, init=init.reshape(-1,1), n_init=1).fit(data.reshape(-1,1))\n",
    "\n",
    "centers = km.cluster_centers_\n",
    "print(\"Centers:\")\n",
    "print(centers)"
   ]
  },
  {
   "cell_type": "markdown",
   "metadata": {},
   "source": [
    "### K-Means with initials means [21,28,36]"
   ]
  },
  {
   "cell_type": "code",
   "execution_count": 3,
   "metadata": {
    "scrolled": false
   },
   "outputs": [
    {
     "name": "stdout",
     "output_type": "stream",
     "text": [
      "Centers:\n",
      "[[  7. ]\n",
      " [ 24.5]\n",
      " [ 36. ]]\n"
     ]
    }
   ],
   "source": [
    "data = np.array([1,3,6,10,15,21,28,36],np.float64)\n",
    "init = np.array([21,28,36], np.float64)\n",
    "km = KMeans(n_clusters=3, init=init.reshape(-1,1), n_init=1).fit(data.reshape(-1,1))\n",
    "\n",
    "centers = km.cluster_centers_\n",
    "print(\"Centers:\")\n",
    "print(centers)"
   ]
  },
  {
   "cell_type": "markdown",
   "metadata": {},
   "source": [
    "### So we do not get the same final clustering if we start with initials means [1,3,6] and [21,28,36]"
   ]
  }
 ],
 "metadata": {
  "kernelspec": {
   "display_name": "Python [conda env:py35]",
   "language": "python",
   "name": "conda-env-py35-py"
  },
  "language_info": {
   "codemirror_mode": {
    "name": "ipython",
    "version": 3
   },
   "file_extension": ".py",
   "mimetype": "text/x-python",
   "name": "python",
   "nbconvert_exporter": "python",
   "pygments_lexer": "ipython3",
   "version": "3.5.3"
  }
 },
 "nbformat": 4,
 "nbformat_minor": 2
}
