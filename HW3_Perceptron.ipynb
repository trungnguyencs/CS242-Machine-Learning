{
 "cells": [
  {
   "cell_type": "markdown",
   "metadata": {},
   "source": [
    "# CS242 Machine Learning HW3\n",
    "## Question 2. Perceptron Algorithm"
   ]
  },
  {
   "cell_type": "code",
   "execution_count": 1,
   "metadata": {
    "collapsed": true
   },
   "outputs": [],
   "source": [
    "import numpy as np"
   ]
  },
  {
   "cell_type": "markdown",
   "metadata": {},
   "source": [
    "### Creating X"
   ]
  },
  {
   "cell_type": "code",
   "execution_count": 2,
   "metadata": {
    "collapsed": true
   },
   "outputs": [],
   "source": [
    "instance_no = 300\n",
    "feature_no = 15\n",
    "random_str = np.random.binomial(1, 0.5, instance_no*feature_no)\n",
    "random_str[random_str == 0] = -1\n",
    "X = random_str.reshape((instance_no,feature_no))"
   ]
  },
  {
   "cell_type": "markdown",
   "metadata": {},
   "source": [
    "### Traning perceptron function 1 (until Y_predict is the same as Y)"
   ]
  },
  {
   "cell_type": "code",
   "execution_count": 3,
   "metadata": {
    "collapsed": true
   },
   "outputs": [],
   "source": [
    "def perceptron_training1(X,Y):\n",
    "    no_epoch = 0\n",
    "    no_error = 0\n",
    "    w = np.zeros(feature_no)\n",
    "    Y_predict = np.sign(np.dot(X,w))\n",
    "    while np.array_equal(Y,Y_predict) == False:\n",
    "        for i, j in enumerate(X):\n",
    "            if (np.dot(X[i], w)*Y[i]) <= 0:\n",
    "                w = w + X[i]*Y[i]\n",
    "                no_error += 1\n",
    "#                 print(i)\n",
    "        Y_predict = np.sign(np.dot(X,w))\n",
    "        no_epoch += 1 \n",
    "    return no_error, no_epoch, w"
   ]
  },
  {
   "cell_type": "markdown",
   "metadata": {},
   "source": [
    "## Question 2a\n",
    "### Results for 2a:"
   ]
  },
  {
   "cell_type": "code",
   "execution_count": 4,
   "metadata": {},
   "outputs": [
    {
     "name": "stdout",
     "output_type": "stream",
     "text": [
      "Number of errors:  10\n",
      "Number of epochs:  1\n"
     ]
    }
   ],
   "source": [
    "Ya = X[:,0]\n",
    "\n",
    "no_error_a, no_epoch_a, w_a = perceptron_training1(X,Ya)\n",
    "print('Number of errors: ', no_error_a)\n",
    "print('Number of epochs: ', no_epoch_a)"
   ]
  },
  {
   "cell_type": "markdown",
   "metadata": {},
   "source": [
    "## Question 2b\n",
    "### Results for 2b:"
   ]
  },
  {
   "cell_type": "code",
   "execution_count": 5,
   "metadata": {},
   "outputs": [
    {
     "name": "stdout",
     "output_type": "stream",
     "text": [
      "Number of errors:  79\n",
      "Number of epochs:  6\n"
     ]
    }
   ],
   "source": [
    "Yb = np.zeros(instance_no)\n",
    "for i in range(instance_no):\n",
    "    if np.sum(X[i])>0:\n",
    "        Yb[i] = 1\n",
    "    if np.sum(X[i])<0:\n",
    "        Yb[i] = -1\n",
    "\n",
    "no_error_b, no_epoch_b, w_b = perceptron_training1(X,Yb)\n",
    "print('Number of errors: ', no_error_b)\n",
    "print('Number of epochs: ', no_epoch_b)     "
   ]
  },
  {
   "cell_type": "markdown",
   "metadata": {},
   "source": [
    "## Question 2c\n",
    "### Creating Yc (with noise r), 500 instances X_test & Y_test"
   ]
  },
  {
   "cell_type": "code",
   "execution_count": 6,
   "metadata": {
    "collapsed": true
   },
   "outputs": [],
   "source": [
    "Y_train = np.zeros(instance_no)\n",
    "for i in range(instance_no):\n",
    "    r = np.random.uniform(low=-4.0, high=4.0)\n",
    "    Y_train[i] = np.sign(r + np.sum(X[i,j] for j in range(11)))\n",
    "    \n",
    "test_instance_no = 500\n",
    "test_random_str = np.random.binomial(1, 0.5, test_instance_no*feature_no)\n",
    "test_random_str[test_random_str == 0] = -1\n",
    "X_test = test_random_str.reshape((test_instance_no,feature_no))    \n",
    "    \n",
    "Y_test = np.zeros(test_instance_no)\n",
    "for i in range(test_instance_no):\n",
    "    r = np.random.uniform(low=-4.0, high=4.0)\n",
    "    Y_test[i] = np.sign(r + np.sum(X_test[i,j] for j in range(11)))"
   ]
  },
  {
   "cell_type": "markdown",
   "metadata": {},
   "source": [
    "### Perceptron training + saving all w vectors "
   ]
  },
  {
   "cell_type": "code",
   "execution_count": 7,
   "metadata": {
    "collapsed": true
   },
   "outputs": [],
   "source": [
    "def perceptron_training2(X,Y,W_old):\n",
    "    no_error = 0\n",
    "    W_new = np.zeros(np.shape(W_old))\n",
    "    W_new[0] = W_old[-1]\n",
    "    for i, j in enumerate(X):\n",
    "        if i == np.shape(Y)[0] - 1:\n",
    "            break\n",
    "        elif (np.dot(X[i], W_new[i-1])*Y[i]) <= 0:\n",
    "#             print(i)\n",
    "            W_new[i+1] = W_new[i] + X[i]*Y[i]\n",
    "            no_error += 1\n",
    "        else:\n",
    "            W_new[i+1] = W_new[i]\n",
    "    return no_error, W_new"
   ]
  },
  {
   "cell_type": "markdown",
   "metadata": {},
   "source": [
    "### Shuffle X and Y without losing corespondence"
   ]
  },
  {
   "cell_type": "code",
   "execution_count": 8,
   "metadata": {
    "collapsed": true,
    "scrolled": false
   },
   "outputs": [],
   "source": [
    "def shuffle(X,Y):\n",
    "    XY = np.hstack((X,np.reshape(Y,(-1,1))))\n",
    "    np.random.shuffle(XY)\n",
    "    X_shuffled = XY[:,0:15]\n",
    "    Y_shuffled = XY[:, -1]\n",
    "    return X_shuffled, Y_shuffled"
   ]
  },
  {
   "cell_type": "markdown",
   "metadata": {},
   "source": [
    "### No shuffle"
   ]
  },
  {
   "cell_type": "code",
   "execution_count": 9,
   "metadata": {
    "scrolled": false
   },
   "outputs": [
    {
     "name": "stdout",
     "output_type": "stream",
     "text": [
      "90\n",
      "87\n",
      "89\n"
     ]
    }
   ],
   "source": [
    "W0 = np.zeros(np.shape(X))\n",
    "no_error1, W1 = perceptron_training2(X,Y_train, W0)\n",
    "no_error2, W2 = perceptron_training2(X,Y_train, W1)\n",
    "no_error3, W3 = perceptron_training2(X,Y_train, W2)\n",
    "print(no_error1)\n",
    "print(no_error2)\n",
    "print(no_error3)"
   ]
  },
  {
   "cell_type": "markdown",
   "metadata": {},
   "source": [
    "### Shuffle"
   ]
  },
  {
   "cell_type": "code",
   "execution_count": 10,
   "metadata": {},
   "outputs": [
    {
     "name": "stdout",
     "output_type": "stream",
     "text": [
      "90\n",
      "78\n",
      "157\n"
     ]
    }
   ],
   "source": [
    "W0 = np.zeros(np.shape(X))\n",
    "no_error1, W1 = perceptron_training2(X,Y_train, W0)\n",
    "X1, Y1 = shuffle(X,Y_train)\n",
    "no_error2, W2 = perceptron_training2(X1,Y1, W1)\n",
    "X2, Y2 = shuffle(X,Y1)\n",
    "no_error3, W3 = perceptron_training2(X2,Y2, W2)\n",
    "print(no_error1)\n",
    "print(no_error2)\n",
    "print(no_error3)"
   ]
  },
  {
   "cell_type": "markdown",
   "metadata": {},
   "source": [
    "### i) The last hypothesis predicts with $sign(w_{900} \\cdot x)$, using the last weight vector from the run"
   ]
  },
  {
   "cell_type": "code",
   "execution_count": 11,
   "metadata": {},
   "outputs": [
    {
     "data": {
      "text/plain": [
       "0.51800000000000002"
      ]
     },
     "execution_count": 11,
     "metadata": {},
     "output_type": "execute_result"
    }
   ],
   "source": [
    "Y_predict1 = np.sign(np.dot(X_test,W3[-1]))\n",
    "np.sum(Y_test==Y_predict1)/500"
   ]
  },
  {
   "cell_type": "markdown",
   "metadata": {},
   "source": [
    "### ii) The average hypothesis computes $\\bar{w} = \\sum_{j=1}^{900} w_j /900$ and predicts with $sign(\\bar{w}\\cdot x)$"
   ]
  },
  {
   "cell_type": "code",
   "execution_count": 12,
   "metadata": {},
   "outputs": [
    {
     "data": {
      "text/plain": [
       "0.76200000000000001"
      ]
     },
     "execution_count": 12,
     "metadata": {},
     "output_type": "execute_result"
    }
   ],
   "source": [
    "W_concat = np.vstack((W1,W2,W3))\n",
    "W_bar = np.sum(W_concat, axis=0)/900\n",
    "Y_predict2 = np.sign(np.dot(X_test,W_bar))\n",
    "np.sum(Y_test==Y_predict2)/500"
   ]
  },
  {
   "cell_type": "markdown",
   "metadata": {},
   "source": [
    "### iii) The voted hypothesis votes all 900 weight vectors, predicting with $sign\\left( \\sum_{i=1}^{900} sign(w_i \\cdot x)\\right)$ (if the vote is tied, treat it as an incorrect prediction)"
   ]
  },
  {
   "cell_type": "code",
   "execution_count": 13,
   "metadata": {},
   "outputs": [
    {
     "data": {
      "text/plain": [
       "0.76000000000000001"
      ]
     },
     "execution_count": 13,
     "metadata": {},
     "output_type": "execute_result"
    }
   ],
   "source": [
    "W_concat = np.vstack((W1,W2,W3))\n",
    "vote = np.zeros(500)\n",
    "for i in range(900):\n",
    "    vote_temp = np.sign(np.dot(X_test,W_concat[i])) \n",
    "    vote += vote_temp\n",
    "Y_predict3 = np.sign(vote)\n",
    "np.sum(Y_test==Y_predict3)/500"
   ]
  },
  {
   "cell_type": "markdown",
   "metadata": {},
   "source": [
    "### iv) The last epoch average computes $\\bar{w}_l = \\sum_{j=601}^{900}w_j/300$ and predicts with $sign(\\bar{w} \\cdot x)$"
   ]
  },
  {
   "cell_type": "code",
   "execution_count": 14,
   "metadata": {},
   "outputs": [
    {
     "data": {
      "text/plain": [
       "0.76200000000000001"
      ]
     },
     "execution_count": 14,
     "metadata": {},
     "output_type": "execute_result"
    }
   ],
   "source": [
    "W_lbar = np.sum(W3, axis=0)/300\n",
    "Y_predict2 = np.sign(np.dot(X_test,W_bar))\n",
    "np.sum(Y_test==Y_predict2)/500"
   ]
  },
  {
   "cell_type": "markdown",
   "metadata": {},
   "source": [
    "### v) The last epoch vote predicts with the vote $sign\\left( \\sum_{i=601}^{900} sign(w_i \\cdot x)\\right)$"
   ]
  },
  {
   "cell_type": "code",
   "execution_count": 15,
   "metadata": {},
   "outputs": [
    {
     "data": {
      "text/plain": [
       "0.5"
      ]
     },
     "execution_count": 15,
     "metadata": {},
     "output_type": "execute_result"
    }
   ],
   "source": [
    "vote = np.zeros(500)\n",
    "for i in range(300):\n",
    "    vote_temp = np.sign(np.dot(X_test,W3[i])) \n",
    "    vote += vote_temp\n",
    "Y_predict3 = np.sign(vote)\n",
    "np.sum(Y_test==Y_predict3)/500"
   ]
  }
 ],
 "metadata": {
  "kernelspec": {
   "display_name": "Python [conda env:py35]",
   "language": "python",
   "name": "conda-env-py35-py"
  },
  "language_info": {
   "codemirror_mode": {
    "name": "ipython",
    "version": 3
   },
   "file_extension": ".py",
   "mimetype": "text/x-python",
   "name": "python",
   "nbconvert_exporter": "python",
   "pygments_lexer": "ipython3",
   "version": "3.5.3"
  }
 },
 "nbformat": 4,
 "nbformat_minor": 2
}
